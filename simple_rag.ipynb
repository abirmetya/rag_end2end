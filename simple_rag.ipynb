{
 "cells": [
  {
   "cell_type": "code",
   "execution_count": 1,
   "id": "f5548fe4",
   "metadata": {},
   "outputs": [],
   "source": [
    "import os\n",
    "from dotenv import load_dotenv"
   ]
  },
  {
   "cell_type": "code",
   "execution_count": 2,
   "id": "013ca89e",
   "metadata": {},
   "outputs": [
    {
     "data": {
      "text/plain": [
       "True"
      ]
     },
     "execution_count": 2,
     "metadata": {},
     "output_type": "execute_result"
    }
   ],
   "source": [
    "load_dotenv()"
   ]
  },
  {
   "cell_type": "code",
   "execution_count": 3,
   "id": "2e6873a1",
   "metadata": {},
   "outputs": [],
   "source": [
    "## Test the LLM model\n",
    "from langchain_openai import ChatOpenAI\n",
    "\n",
    "llm = ChatOpenAI(model = 'gpt-4o-mini')"
   ]
  },
  {
   "cell_type": "code",
   "execution_count": 4,
   "id": "08ba46a7",
   "metadata": {},
   "outputs": [
    {
     "data": {
      "text/plain": [
       "AIMessage(content='Why did the scarecrow win an award? \\n\\nBecause he was outstanding in his field!', additional_kwargs={'refusal': None}, response_metadata={'token_usage': {'completion_tokens': 18, 'prompt_tokens': 11, 'total_tokens': 29, 'completion_tokens_details': {'accepted_prediction_tokens': 0, 'audio_tokens': 0, 'reasoning_tokens': 0, 'rejected_prediction_tokens': 0}, 'prompt_tokens_details': {'audio_tokens': 0, 'cached_tokens': 0}}, 'model_name': 'gpt-4o-mini-2024-07-18', 'system_fingerprint': 'fp_8bda4d3a2c', 'id': 'chatcmpl-CBzDf43tGTJQFrPUa5c4HfSAuYeLx', 'service_tier': 'default', 'finish_reason': 'stop', 'logprobs': None}, id='run--590f3e82-e549-4bc1-a589-480b439df141-0', usage_metadata={'input_tokens': 11, 'output_tokens': 18, 'total_tokens': 29, 'input_token_details': {'audio': 0, 'cache_read': 0}, 'output_token_details': {'audio': 0, 'reasoning': 0}})"
      ]
     },
     "execution_count": 4,
     "metadata": {},
     "output_type": "execute_result"
    }
   ],
   "source": [
    "## Test the LLM model\n",
    "\n",
    "llm = ChatOpenAI(model = 'gpt-4o-mini')\n",
    "llm_response = llm.invoke(\"Tell me a joke\")\n",
    "\n",
    "llm_response"
   ]
  },
  {
   "cell_type": "code",
   "execution_count": 5,
   "id": "7e5ec005",
   "metadata": {},
   "outputs": [],
   "source": [
    "## Test the Document splitter\n",
    "from langchain_community.document_loaders import PyPDFLoader, Docx2txtLoader\n",
    "from langchain_text_splitters import RecursiveCharacterTextSplitter\n",
    "from typing import List\n",
    "from langchain_core.documents import Document\n",
    "import os\n",
    "from langchain_community.embeddings import SentenceTransformerEmbeddings\n",
    "from langchain_chroma import Chroma\n",
    "from langchain_core.prompts import ChatPromptTemplate\n",
    "from langchain.schema.runnable import RunnablePassthrough\n",
    "from langchain_core.output_parsers import StrOutputParser"
   ]
  },
  {
   "cell_type": "code",
   "execution_count": 6,
   "id": "ecee2039",
   "metadata": {},
   "outputs": [
    {
     "name": "stdout",
     "output_type": "stream",
     "text": [
      "1\n",
      "Splits the documents into 2 chunks.\n"
     ]
    }
   ],
   "source": [
    "text_splitter = RecursiveCharacterTextSplitter(\n",
    "    chunk_size = 1000,\n",
    "    chunk_overlap = 200,\n",
    "    length_function=len\n",
    ")\n",
    "docx_loader = Docx2txtLoader(\"documents\\GreenGrow Innovations_ Company History.docx\")\n",
    "documents = docx_loader.load()\n",
    "print(len(documents))\n",
    "\n",
    "splits = text_splitter.split_documents(documents)\n",
    "print(f\"Splits the documents into {len(splits)} chunks.\")"
   ]
  },
  {
   "cell_type": "code",
   "execution_count": 7,
   "id": "46d892e3",
   "metadata": {},
   "outputs": [
    {
     "data": {
      "text/plain": [
       "{'source': 'documents\\\\GreenGrow Innovations_ Company History.docx'}"
      ]
     },
     "execution_count": 7,
     "metadata": {},
     "output_type": "execute_result"
    }
   ],
   "source": [
    "splits[0].metadata"
   ]
  },
  {
   "cell_type": "code",
   "execution_count": 8,
   "id": "baad61f3",
   "metadata": {},
   "outputs": [
    {
     "data": {
      "text/plain": [
       "'GreenGrow Innovations was founded in 2010 by Sarah Chen and Michael Rodriguez, two agricultural engineers with a passion for sustainable farming. The company started in a small garage in Portland, Oregon, with a simple mission: to make farming more environmentally friendly and efficient.\\n\\n\\n\\nIn its early days, GreenGrow focused on developing smart irrigation systems that could significantly reduce water usage in agriculture. Their first product, the WaterWise Sensor, was launched in 2012 and quickly gained popularity among local farmers. This success allowed the company to expand its research and development efforts.\\n\\n\\n\\nBy 2015, GreenGrow had outgrown its garage origins and moved into a proper office and research facility in the outskirts of Portland. This move coincided with the development of their second major product, the SoilHealth Monitor, which used advanced sensors to analyze soil composition and provide real-time recommendations for optimal crop growth.'"
      ]
     },
     "execution_count": 8,
     "metadata": {},
     "output_type": "execute_result"
    }
   ],
   "source": [
    "splits[0].page_content"
   ]
  },
  {
   "cell_type": "code",
   "execution_count": 9,
   "id": "173d5641",
   "metadata": {},
   "outputs": [],
   "source": [
    "## Create a useful function to split the document\n",
    "\n",
    "def load_documents(folder_path: str) -> List[Document]:\n",
    "    documents = []\n",
    "    for filename in os.listdir(folder_path):\n",
    "        file_path = os.path.join(folder_path, filename)\n",
    "        if filename.endswith('.pdf'):\n",
    "            loader = PyPDFLoader(file_path)\n",
    "        elif filename.endswith('.docx'):\n",
    "            loader = Docx2txtLoader(file_path)\n",
    "        else:\n",
    "            print(f\"Unsupportd file type: {file_path}\")\n",
    "        documents.extend(loader.load())\n",
    "\n",
    "    return documents\n",
    "\n",
    "# Load documents from a folder\n",
    "folder_path = \"documents\"\n",
    "documents = load_documents(folder_path)"
   ]
  },
  {
   "cell_type": "code",
   "execution_count": 10,
   "id": "6c82dbab",
   "metadata": {},
   "outputs": [
    {
     "name": "stdout",
     "output_type": "stream",
     "text": [
      "Loaded 5 documents from the folder.\n",
      "Split the documents into 8 chunks.\n"
     ]
    }
   ],
   "source": [
    "print(f\"Loaded {len(documents)} documents from the folder.\")\n",
    "splits = text_splitter.split_documents(documents)\n",
    "print(f\"Split the documents into {len(splits)} chunks.\")"
   ]
  },
  {
   "cell_type": "code",
   "execution_count": 11,
   "id": "0c543081",
   "metadata": {},
   "outputs": [
    {
     "name": "stderr",
     "output_type": "stream",
     "text": [
      "C:\\Users\\Abir\\AppData\\Local\\Temp\\ipykernel_13372\\2972108072.py:1: LangChainDeprecationWarning: The class `HuggingFaceEmbeddings` was deprecated in LangChain 0.2.2 and will be removed in 1.0. An updated version of the class exists in the :class:`~langchain-huggingface package and should be used instead. To use it run `pip install -U :class:`~langchain-huggingface` and import as `from :class:`~langchain_huggingface import HuggingFaceEmbeddings``.\n",
      "  embed_model = SentenceTransformerEmbeddings(model_name = \"all-MiniLM-L6-v2\")\n",
      "d:\\abir\\ai_ml_cv_projects\\simple_rag\\.venev\\lib\\site-packages\\tqdm\\auto.py:21: TqdmWarning: IProgress not found. Please update jupyter and ipywidgets. See https://ipywidgets.readthedocs.io/en/stable/user_install.html\n",
      "  from .autonotebook import tqdm as notebook_tqdm\n"
     ]
    },
    {
     "data": {
      "text/plain": [
       "[0.029335757717490196,\n",
       " -0.027797536924481392,\n",
       " -0.018463410437107086,\n",
       " -0.05892423912882805,\n",
       " 0.08951884508132935,\n",
       " -0.02608221210539341,\n",
       " -0.10806204378604889,\n",
       " 0.03759301081299782,\n",
       " -0.00500865513458848,\n",
       " -0.04168721288442612,\n",
       " -0.01638769544661045,\n",
       " -0.02612929977476597,\n",
       " -0.031359948217868805,\n",
       " 0.010636319406330585,\n",
       " -0.07282694429159164,\n",
       " -0.0030147756915539503,\n",
       " -0.01876572147011757,\n",
       " -0.01873072236776352,\n",
       " 0.0665455311536789,\n",
       " -0.07033522427082062,\n",
       " 0.0032461038790643215,\n",
       " -0.015937551856040955,\n",
       " 0.06552287191152573,\n",
       " 0.014457416720688343,\n",
       " -0.011876823380589485,\n",
       " 0.10337899625301361,\n",
       " -0.005314050707966089,\n",
       " 0.0017421699594706297,\n",
       " 0.003655016189441085,\n",
       " -0.036102183163166046,\n",
       " -0.012576725333929062,\n",
       " 0.04590796306729317,\n",
       " 0.030862493440508842,\n",
       " -0.054005078971385956,\n",
       " 0.02634744718670845,\n",
       " 0.08197517693042755,\n",
       " -0.03140774741768837,\n",
       " -0.04810932278633118,\n",
       " 0.04922594502568245,\n",
       " -0.002444606041535735,\n",
       " 0.005876438692212105,\n",
       " -0.014024660922586918,\n",
       " -0.003966038580983877,\n",
       " -0.0509265698492527,\n",
       " -0.001693081227131188,\n",
       " -0.022535337135195732,\n",
       " 0.017213260754942894,\n",
       " -0.03314664959907532,\n",
       " 0.06797360628843307,\n",
       " -0.09383497387170792,\n",
       " -0.00947084091603756,\n",
       " -0.13393495976924896,\n",
       " 0.07826510816812515,\n",
       " -0.012822486460208893,\n",
       " -0.012977424077689648,\n",
       " 0.04527782276272774,\n",
       " 0.04623650759458542,\n",
       " -0.03761119395494461,\n",
       " -0.057765934616327286,\n",
       " -0.02989744208753109,\n",
       " 0.14311495423316956,\n",
       " -0.03434370085597038,\n",
       " 0.005796882789582014,\n",
       " -0.012829971499741077,\n",
       " 0.08366755396127701,\n",
       " 0.018904464319348335,\n",
       " -0.03230969235301018,\n",
       " 0.06551282107830048,\n",
       " -0.0518936812877655,\n",
       " -0.08966822922229767,\n",
       " 0.07489059120416641,\n",
       " -0.05582593381404877,\n",
       " -0.012780191376805305,\n",
       " 0.08146091550588608,\n",
       " 0.01487747486680746,\n",
       " 0.04724256694316864,\n",
       " -0.0008572002407163382,\n",
       " 0.05879285931587219,\n",
       " 0.07966916263103485,\n",
       " 0.003067870158702135,\n",
       " 0.1257152557373047,\n",
       " -0.01193365640938282,\n",
       " -0.010845904238522053,\n",
       " 0.08112882077693939,\n",
       " -0.046888288110494614,\n",
       " -0.0016202179249376059,\n",
       " -0.03820520266890526,\n",
       " 0.08380495756864548,\n",
       " 0.017192630097270012,\n",
       " -0.02982887253165245,\n",
       " -0.05360633134841919,\n",
       " -0.07129417359828949,\n",
       " -0.02281694859266281,\n",
       " 0.05000952631235123,\n",
       " -0.12939395010471344,\n",
       " 0.007707077544182539,\n",
       " -0.023188596591353416,\n",
       " -0.00425358721986413,\n",
       " 0.02571103349328041,\n",
       " -0.04492804780602455,\n",
       " 0.014019387774169445,\n",
       " 0.01740873232483864,\n",
       " -0.0977260172367096,\n",
       " -0.03229384869337082,\n",
       " -0.05151224508881569,\n",
       " -0.011034028604626656,\n",
       " -0.08475316315889359,\n",
       " 0.06570711731910706,\n",
       " 0.08928307145833969,\n",
       " 0.11264914274215698,\n",
       " -0.030680673196911812,\n",
       " 0.04315749555826187,\n",
       " -0.015516814775764942,\n",
       " 0.021194709464907646,\n",
       " -0.08207408338785172,\n",
       " 0.03310384228825569,\n",
       " 0.031917013227939606,\n",
       " -0.03425788879394531,\n",
       " 0.01885838247835636,\n",
       " 0.002910519251599908,\n",
       " -0.009093322791159153,\n",
       " -0.00683167576789856,\n",
       " -0.005917848087847233,\n",
       " -0.019899839535355568,\n",
       " 0.07646631449460983,\n",
       " -0.004548346158117056,\n",
       " -0.09754058718681335,\n",
       " -1.4544994961933921e-33,\n",
       " -0.0728130117058754,\n",
       " 0.0374925434589386,\n",
       " 0.04217587038874626,\n",
       " 0.08423271775245667,\n",
       " 0.02489549107849598,\n",
       " 0.0026626524049788713,\n",
       " 0.008587097749114037,\n",
       " -0.014084677211940289,\n",
       " -0.06119130551815033,\n",
       " -0.09540439397096634,\n",
       " -0.07133594900369644,\n",
       " -0.059379830956459045,\n",
       " 0.03327639400959015,\n",
       " 0.0010496920440346003,\n",
       " 0.02866349369287491,\n",
       " -0.0872369259595871,\n",
       " 0.018685363233089447,\n",
       " -0.03559499233961105,\n",
       " -0.04349970817565918,\n",
       " 0.07893171906471252,\n",
       " -0.012825478799641132,\n",
       " -0.0769711285829544,\n",
       " -0.06754964590072632,\n",
       " 0.10578565299510956,\n",
       " 0.07577289640903473,\n",
       " -0.05674535781145096,\n",
       " -0.010417191311717033,\n",
       " 0.013241061009466648,\n",
       " -0.0063157519325613976,\n",
       " 0.02122034877538681,\n",
       " -0.000679744640365243,\n",
       " 0.03320400044322014,\n",
       " -0.05385753884911537,\n",
       " -0.05380922928452492,\n",
       " 0.060261961072683334,\n",
       " 0.036519866436719894,\n",
       " 0.00470926146954298,\n",
       " -0.02370067685842514,\n",
       " -0.02012716978788376,\n",
       " 0.1078326553106308,\n",
       " 0.012924213893711567,\n",
       " 0.04864830896258354,\n",
       " -0.017428074032068253,\n",
       " -0.0359978973865509,\n",
       " 0.08548956364393234,\n",
       " 0.06585188210010529,\n",
       " -0.012139561586081982,\n",
       " 0.04451041668653488,\n",
       " 0.10073523968458176,\n",
       " -0.076461061835289,\n",
       " -0.06347224861383438,\n",
       " 0.032688260078430176,\n",
       " 0.010453636758029461,\n",
       " 0.0027376189827919006,\n",
       " 0.11748911440372467,\n",
       " 0.014509947970509529,\n",
       " -0.09448117762804031,\n",
       " -0.06101378798484802,\n",
       " 0.028422219678759575,\n",
       " 0.0333029106259346,\n",
       " 0.00529218977317214,\n",
       " 0.034888144582509995,\n",
       " -0.1504157930612564,\n",
       " 0.05659588426351547,\n",
       " -0.012716798111796379,\n",
       " 0.004494748543947935,\n",
       " 0.003545712446793914,\n",
       " 0.024868067353963852,\n",
       " 0.038695838302373886,\n",
       " 0.13136769831180573,\n",
       " 0.03986993804574013,\n",
       " -0.07588855177164078,\n",
       " -0.016762390732765198,\n",
       " 0.06233447045087814,\n",
       " -0.05435258150100708,\n",
       " 0.0018088039942085743,\n",
       " -0.08304951339960098,\n",
       " 0.10314083099365234,\n",
       " -0.02317538671195507,\n",
       " 0.06122228130698204,\n",
       " 0.03868542239069939,\n",
       " -0.011831129901111126,\n",
       " -0.06748763471841812,\n",
       " 0.035369642078876495,\n",
       " -0.01075523067265749,\n",
       " -0.015821682289242744,\n",
       " -0.016249150037765503,\n",
       " 0.017200497910380363,\n",
       " -0.03663395717740059,\n",
       " 0.0281924270093441,\n",
       " -0.04073123261332512,\n",
       " -0.024354757741093636,\n",
       " 0.011420879513025284,\n",
       " 0.04649003595113754,\n",
       " -0.06253089010715485,\n",
       " -1.1180113913701314e-33,\n",
       " 0.04722052067518234,\n",
       " -0.03382598236203194,\n",
       " 0.03778167441487312,\n",
       " -0.023022262379527092,\n",
       " -0.03908728435635567,\n",
       " 0.03230024501681328,\n",
       " 0.0474538654088974,\n",
       " -0.007055046036839485,\n",
       " 0.056404437869787216,\n",
       " 0.05146866664290428,\n",
       " 0.020409924909472466,\n",
       " 0.09426074475049973,\n",
       " 0.01588406041264534,\n",
       " 0.031727563589811325,\n",
       " -0.04484479874372482,\n",
       " 0.07596966624259949,\n",
       " -0.0652414932847023,\n",
       " -0.040172867476940155,\n",
       " -0.017549488693475723,\n",
       " -0.04291138797998428,\n",
       " 0.0021254222374409437,\n",
       " 0.003584809135645628,\n",
       " -0.03774676471948624,\n",
       " -0.008393009193241596,\n",
       " -0.03578941896557808,\n",
       " 0.04551804065704346,\n",
       " -0.11541648209095001,\n",
       " 0.05959980562329292,\n",
       " 0.02784130908548832,\n",
       " -0.0671367272734642,\n",
       " -0.06104529649019241,\n",
       " -0.02726062200963497,\n",
       " -0.05849594622850418,\n",
       " 0.08631640672683716,\n",
       " -0.002673996612429619,\n",
       " 0.07621573656797409,\n",
       " -0.04490867629647255,\n",
       " -0.05695807561278343,\n",
       " 0.08102906495332718,\n",
       " 0.005394341424107552,\n",
       " -0.006681479513645172,\n",
       " 0.029800614342093468,\n",
       " -0.08928614854812622,\n",
       " 0.009150832891464233,\n",
       " 0.052766766399145126,\n",
       " -0.05103394389152527,\n",
       " -0.11141014099121094,\n",
       " -0.03133729100227356,\n",
       " 0.0679282695055008,\n",
       " -0.05578069016337395,\n",
       " -0.00035920500522479415,\n",
       " 0.03547928109765053,\n",
       " 0.013094067573547363,\n",
       " -0.012333839200437069,\n",
       " 0.03353884816169739,\n",
       " -0.053118735551834106,\n",
       " -0.02175101824104786,\n",
       " 0.0704055055975914,\n",
       " -0.015802927315235138,\n",
       " -0.015516065061092377,\n",
       " 0.025511180981993675,\n",
       " 0.028708213940262794,\n",
       " -0.012655185535550117,\n",
       " 0.11249241232872009,\n",
       " -0.10603432357311249,\n",
       " 0.03438052907586098,\n",
       " -0.0009922183817252517,\n",
       " 0.04405708238482475,\n",
       " 0.0038448411505669355,\n",
       " -0.029145799577236176,\n",
       " -0.043853484094142914,\n",
       " 0.07955047488212585,\n",
       " 0.019219469279050827,\n",
       " 0.03597187623381615,\n",
       " -0.01016195397824049,\n",
       " 0.03266508877277374,\n",
       " -0.0014208955690264702,\n",
       " -0.01149802841246128,\n",
       " -0.08003626763820648,\n",
       " -0.0842909961938858,\n",
       " 0.04466608539223671,\n",
       " -0.008985362015664577,\n",
       " 0.03251713886857033,\n",
       " 0.01377359963953495,\n",
       " 0.0454297810792923,\n",
       " 0.020566605031490326,\n",
       " 0.006129078101366758,\n",
       " -0.024882225319743156,\n",
       " 0.0019000923493877053,\n",
       " -0.0033259745687246323,\n",
       " -0.021118655800819397,\n",
       " -0.01194281131029129,\n",
       " -0.03884497284889221,\n",
       " -0.025506896898150444,\n",
       " 0.03679906949400902,\n",
       " -3.6866577346472695e-08,\n",
       " 0.008218209259212017,\n",
       " -0.055134497582912445,\n",
       " 0.008336680941283703,\n",
       " -0.053640637546777725,\n",
       " 0.0033839528914541006,\n",
       " -0.04445578530430794,\n",
       " 0.018198372796177864,\n",
       " -0.03231745585799217,\n",
       " 0.07504795491695404,\n",
       " 0.03340429440140724,\n",
       " -0.14269237220287323,\n",
       " 0.0662660226225853,\n",
       " -0.04443977028131485,\n",
       " 0.06537801772356033,\n",
       " -0.032503195106983185,\n",
       " -0.013292013667523861,\n",
       " -0.040426287800073624,\n",
       " 0.02771933563053608,\n",
       " 0.014151652343571186,\n",
       " 0.027345292270183563,\n",
       " -0.031009018421173096,\n",
       " 0.08018134534358978,\n",
       " -0.05901229381561279,\n",
       " 0.00412584375590086,\n",
       " -0.0019157609203830361,\n",
       " -0.021623311564326286,\n",
       " 0.03863387554883957,\n",
       " -0.13183464109897614,\n",
       " 0.05634181573987007,\n",
       " -0.02026640810072422,\n",
       " -0.042873747646808624,\n",
       " 0.06705880165100098,\n",
       " 0.0387243777513504,\n",
       " 0.023645056411623955,\n",
       " -0.01661496050655842,\n",
       " -0.04398302733898163,\n",
       " -0.029817523434758186,\n",
       " 0.00374275678768754,\n",
       " -0.02707083523273468,\n",
       " -0.07113249599933624,\n",
       " -0.007476387079805136,\n",
       " -0.035957012325525284,\n",
       " -0.04426393285393715,\n",
       " -0.024684617295861244,\n",
       " -0.023062225431203842,\n",
       " -0.06011706218123436,\n",
       " 0.02044207789003849,\n",
       " 0.031181521713733673,\n",
       " 0.003570732893422246,\n",
       " -0.028255213052034378,\n",
       " 0.02605045959353447,\n",
       " -0.00430047744885087,\n",
       " 0.055627621710300446,\n",
       " -0.009126889519393444,\n",
       " -0.03039959818124771,\n",
       " 0.029524635523557663,\n",
       " -0.04972381889820099,\n",
       " -0.0926709920167923,\n",
       " -0.025037353858351707,\n",
       " -0.06035016104578972,\n",
       " 0.047739654779434204,\n",
       " -0.06098376587033272,\n",
       " 0.11398783326148987,\n",
       " 0.013488431461155415]"
      ]
     },
     "execution_count": 11,
     "metadata": {},
     "output_type": "execute_result"
    }
   ],
   "source": [
    "embed_model = SentenceTransformerEmbeddings(model_name = \"all-MiniLM-L6-v2\")\n",
    "document_embeddings = embed_model.embed_documents([split.page_content for split in splits])\n",
    "document_embeddings[0]"
   ]
  },
  {
   "cell_type": "code",
   "execution_count": 12,
   "id": "1ebb52bb",
   "metadata": {},
   "outputs": [
    {
     "data": {
      "text/plain": [
       "384"
      ]
     },
     "execution_count": 12,
     "metadata": {},
     "output_type": "execute_result"
    }
   ],
   "source": [
    "len(document_embeddings[0])"
   ]
  },
  {
   "cell_type": "code",
   "execution_count": 13,
   "id": "771b1f90",
   "metadata": {},
   "outputs": [],
   "source": [
    "collection_name = \"my_collection\"\n",
    "\n",
    "## Create vectore store with documents\n",
    "vector_store = Chroma.from_documents(\n",
    "    documents = splits, \n",
    "    embedding = embed_model, \n",
    "    collection_name=\"adaptive_rag\", \n",
    "    persist_directory=\"./chroma_db\"\n",
    "    )"
   ]
  },
  {
   "cell_type": "code",
   "execution_count": 14,
   "id": "ea3db653",
   "metadata": {},
   "outputs": [
    {
     "name": "stdout",
     "output_type": "stream",
     "text": [
      "Vector store created and persisted to './chroma_db'\n"
     ]
    }
   ],
   "source": [
    "print(\"Vector store created and persisted to './chroma_db'\")"
   ]
  },
  {
   "cell_type": "code",
   "execution_count": 15,
   "id": "db7c7464",
   "metadata": {},
   "outputs": [],
   "source": [
    "# Perform similarity search\n",
    "\n",
    "query = \"When was GreenGrow Innovations founded?\"\n",
    "search_results = vector_store.similarity_search(query, k=2)"
   ]
  },
  {
   "cell_type": "code",
   "execution_count": 16,
   "id": "3cbf1e77",
   "metadata": {},
   "outputs": [
    {
     "name": "stdout",
     "output_type": "stream",
     "text": [
      "\n",
      "Top 2 most related chuinks for the quey are: 'When was GreenGrow Innovations founded?'\n",
      "\n",
      "Result 1:\n",
      "Source: documents\\GreenGrow Innovations_ Company History.docx\n",
      "Content: GreenGrow Innovations was founded in 2010 by Sarah Chen and Michael Rodriguez, two agricultural engineers with a passion for sustainable farming. The company started in a small garage in Portland, Oregon, with a simple mission: to make farming more environmentally friendly and efficient.\n",
      "\n",
      "\n",
      "\n",
      "In its early days, GreenGrow focused on developing smart irrigation systems that could significantly reduce water usage in agriculture. Their first product, the WaterWise Sensor, was launched in 2012 and quickly gained popularity among local farmers. This success allowed the company to expand its research and development efforts.\n",
      "\n",
      "\n",
      "\n",
      "By 2015, GreenGrow had outgrown its garage origins and moved into a proper office and research facility in the outskirts of Portland. This move coincided with the development of their second major product, the SoilHealth Monitor, which used advanced sensors to analyze soil composition and provide real-time recommendations for optimal crop growth.\n",
      "\n",
      "Result 2:\n",
      "Source: documents\\GreenGrow Innovations_ Company History.docx\n",
      "Content: GreenGrow Innovations was founded in 2010 by Sarah Chen and Michael Rodriguez, two agricultural engineers with a passion for sustainable farming. The company started in a small garage in Portland, Oregon, with a simple mission: to make farming more environmentally friendly and efficient.\n",
      "\n",
      "\n",
      "\n",
      "In its early days, GreenGrow focused on developing smart irrigation systems that could significantly reduce water usage in agriculture. Their first product, the WaterWise Sensor, was launched in 2012 and quickly gained popularity among local farmers. This success allowed the company to expand its research and development efforts.\n",
      "\n",
      "\n",
      "\n",
      "By 2015, GreenGrow had outgrown its garage origins and moved into a proper office and research facility in the outskirts of Portland. This move coincided with the development of their second major product, the SoilHealth Monitor, which used advanced sensors to analyze soil composition and provide real-time recommendations for optimal crop growth.\n",
      "\n"
     ]
    }
   ],
   "source": [
    "print(f\"\\nTop 2 most related chuinks for the quey are: '{query}'\\n\")\n",
    "for i, result in enumerate(search_results,1):\n",
    "    print(f\"Result {i}:\")\n",
    "    print(f\"Source: {result.metadata.get('source', 'Unknown')}\")\n",
    "    print(f\"Content: {result.page_content}\")\n",
    "    print()"
   ]
  },
  {
   "cell_type": "code",
   "execution_count": 17,
   "id": "7f5abd0f",
   "metadata": {},
   "outputs": [],
   "source": [
    "template = ''' Answer the question based only on the following context:\n",
    "{context}\n",
    "\n",
    "Question: {question}\n",
    "Answer:\n",
    "'''\n",
    "\n",
    "prompt = ChatPromptTemplate.from_template(\n",
    "    template= template\n",
    ")"
   ]
  },
  {
   "cell_type": "code",
   "execution_count": 18,
   "id": "2004cb8d",
   "metadata": {},
   "outputs": [
    {
     "data": {
      "text/plain": [
       "{'constant': 'What is your name? Today is a sunny day with no rain possibility'}"
      ]
     },
     "execution_count": 18,
     "metadata": {},
     "output_type": "execute_result"
    }
   ],
   "source": [
    "dict([(\"constant\",\"What is your name? Today is a sunny day with no rain possibility\")])"
   ]
  },
  {
   "cell_type": "code",
   "execution_count": 19,
   "id": "acf79872",
   "metadata": {},
   "outputs": [],
   "source": [
    "## Example to create a runnable using prompt template\n",
    "def constant_context(_):\n",
    "    return \"What is your name? Today is a sunny day with no rain possibility\"\n",
    "\n",
    "# rag_chain = (\n",
    "#     {\"context\":dict([(\"constant\",\"What is your name? Today is a sunny day with no rain possibility\")]), \"question\": RunnablePassthrough()} | prompt\n",
    "# )\n",
    "\n",
    "rag_chain = (\n",
    "    {\"context\":constant_context, \"question\": RunnablePassthrough()} | prompt\n",
    ")"
   ]
  },
  {
   "cell_type": "code",
   "execution_count": 20,
   "id": "30ff1ee9",
   "metadata": {},
   "outputs": [
    {
     "data": {
      "text/plain": [
       "ChatPromptValue(messages=[HumanMessage(content=' Answer the question based only on the following context:\\nWhat is your name? Today is a sunny day with no rain possibility\\n\\nQuestion: What is your name?\\nAnswer:\\n', additional_kwargs={}, response_metadata={})])"
      ]
     },
     "execution_count": 20,
     "metadata": {},
     "output_type": "execute_result"
    }
   ],
   "source": [
    "rag_chain.invoke(\"What is your name?\")"
   ]
  },
  {
   "cell_type": "code",
   "execution_count": 21,
   "id": "1c3b05ea",
   "metadata": {},
   "outputs": [],
   "source": [
    "retriever = vector_store.as_retriever(search_kwargs={\"k\": 2})"
   ]
  },
  {
   "cell_type": "code",
   "execution_count": 22,
   "id": "2ec075a9",
   "metadata": {},
   "outputs": [],
   "source": [
    "def doc2str(docs_):\n",
    "    return \"\\n\\n\".join(docs.page_content for docs in docs_)"
   ]
  },
  {
   "cell_type": "code",
   "execution_count": 23,
   "id": "d07c2470",
   "metadata": {},
   "outputs": [],
   "source": [
    "rag_chain = (\n",
    "    {\"context\": retriever | doc2str, \"question\": RunnablePassthrough()} \n",
    "    |prompt\n",
    "    |llm\n",
    "    |StrOutputParser()\n",
    ")"
   ]
  },
  {
   "cell_type": "code",
   "execution_count": 24,
   "id": "5af9c938",
   "metadata": {},
   "outputs": [
    {
     "name": "stdout",
     "output_type": "stream",
     "text": [
      "GreenGrow Innovations was founded in 2010.\n"
     ]
    }
   ],
   "source": [
    "question = \"When was GreenGrow Innovations founded?\"\n",
    "response = rag_chain.invoke(question)\n",
    "print(response)"
   ]
  },
  {
   "cell_type": "code",
   "execution_count": 25,
   "id": "5bdec205",
   "metadata": {},
   "outputs": [],
   "source": [
    "## Handling Followup prompts\n",
    "from langchain_core.messages import HumanMessage, AIMessage\n",
    "from langchain_core.prompts import MessagesPlaceholder\n",
    "\n",
    "chat_history = []\n",
    "chat_history.extend([\n",
    "    HumanMessage(content = question),\n",
    "    AIMessage(content = response)\n",
    "    ])"
   ]
  },
  {
   "cell_type": "code",
   "execution_count": 26,
   "id": "91e1d8fd",
   "metadata": {},
   "outputs": [],
   "source": [
    "## Rewrite and contexualized the Prompt\n",
    "\n",
    "rewrite_prompt_context = \"\"\"\n",
    "You are given:\n",
    "- A conversation history between a user and an assistant.\n",
    "- The most recent user question, which may depend on or reference earlier context.\n",
    "\n",
    "Your task:\n",
    "- Reformulate the latest user question into a clear, standalone query that can be understood without seeing the prior chat.\n",
    "- Preserve the user’s original intent and meaning.\n",
    "- If the question is already self-contained, return it unchanged.\n",
    "- Do not attempt to answer the question.\n",
    "\"\"\"\n",
    "\n",
    "contextualized_q_prompt = ChatPromptTemplate.from_messages([\n",
    "    ('system',rewrite_prompt_context),\n",
    "    MessagesPlaceholder(\"chat_history\"),\n",
    "    ('human',\"{input}\")\n",
    "])"
   ]
  },
  {
   "cell_type": "code",
   "execution_count": 27,
   "id": "36a3874b",
   "metadata": {},
   "outputs": [],
   "source": [
    "contextualized_chain = contextualized_q_prompt | llm | StrOutputParser()"
   ]
  },
  {
   "cell_type": "code",
   "execution_count": 28,
   "id": "851690e6",
   "metadata": {},
   "outputs": [
    {
     "data": {
      "text/plain": [
       "'Where is the headquarters of GreenGrow Innovations located?'"
      ]
     },
     "execution_count": 28,
     "metadata": {},
     "output_type": "execute_result"
    }
   ],
   "source": [
    "contextualized_chain.invoke({\"input\": \"Where it is headquartered?\", \"chat_history\" : chat_history})"
   ]
  },
  {
   "cell_type": "code",
   "execution_count": 29,
   "id": "99ff6c29",
   "metadata": {},
   "outputs": [
    {
     "data": {
      "text/plain": [
       "[Document(id='ac671b61-cfe9-48e6-ab58-6bf761bcfec2', metadata={'source': 'documents\\\\GreenGrow Innovations_ Company History.docx'}, page_content=\"The company's breakthrough came in 2018 with the introduction of the EcoHarvest System, an integrated solution that combined smart irrigation, soil monitoring, and automated harvesting techniques. This system caught the attention of large-scale farmers across the United States, propelling GreenGrow to national prominence.\\n\\n\\n\\nToday, GreenGrow Innovations employs over 200 people and has expanded its operations to include offices in California and Iowa. The company continues to focus on developing sustainable agricultural technologies, with ongoing projects in vertical farming, drought-resistant crop development, and AI-powered farm management systems.\\n\\n\\n\\nDespite its growth, GreenGrow remains committed to its original mission of promoting sustainable farming practices. The company regularly partners with universities and research institutions to advance the field of agricultural technology and hosts annual conferences to share knowledge with farmers and other industry professionals.\"),\n",
       " Document(id='4817a6ea-15e6-4a52-8f26-f83e757a8dd9', metadata={'source': 'documents\\\\GreenGrow Innovations_ Company History.docx'}, page_content=\"The company's breakthrough came in 2018 with the introduction of the EcoHarvest System, an integrated solution that combined smart irrigation, soil monitoring, and automated harvesting techniques. This system caught the attention of large-scale farmers across the United States, propelling GreenGrow to national prominence.\\n\\n\\n\\nToday, GreenGrow Innovations employs over 200 people and has expanded its operations to include offices in California and Iowa. The company continues to focus on developing sustainable agricultural technologies, with ongoing projects in vertical farming, drought-resistant crop development, and AI-powered farm management systems.\\n\\n\\n\\nDespite its growth, GreenGrow remains committed to its original mission of promoting sustainable farming practices. The company regularly partners with universities and research institutions to advance the field of agricultural technology and hosts annual conferences to share knowledge with farmers and other industry professionals.\")]"
      ]
     },
     "execution_count": 29,
     "metadata": {},
     "output_type": "execute_result"
    }
   ],
   "source": [
    "## Now, contextualized prompt writing is not the end product that we wanted. However, we wanted retrieved document from the newly written contextualised query by LLM\n",
    "\n",
    "from langchain.chains import create_history_aware_retriever\n",
    "\n",
    "history_aware_retriever = create_history_aware_retriever(\n",
    "    llm, retriever, contextualized_q_prompt\n",
    ")\n",
    "\n",
    "history_aware_retriever.invoke({\"input\":\"Where it is headquartered?\",\"chat_history\": chat_history })"
   ]
  },
  {
   "cell_type": "code",
   "execution_count": 30,
   "id": "ebf171db",
   "metadata": {},
   "outputs": [
    {
     "data": {
      "text/plain": [
       "[Document(id='f44bc684-d3dc-4f08-a772-4b6a2c424f50', metadata={'source': 'documents\\\\Company_ TechWave Innovations.docx'}, page_content='Company: TechWave Innovations\\n\\nHeadquarters: TechWave Innovations is headquartered in San Francisco, California, USA. As a leader in cutting-edge AI and machine learning solutions, the company thrives in the heart of Silicon Valley, benefiting from its proximity to tech giants and a dynamic startup ecosystem. With its headquarters in this global technology hub, TechWave Innovations has access to top talent and a vast network of innovation-driven enterprises.'),\n",
       " Document(id='16f1e59d-bdb0-4c4e-a4fe-f0db52e40672', metadata={'source': 'documents\\\\Company_ TechWave Innovations.docx'}, page_content='Company: TechWave Innovations\\n\\nHeadquarters: TechWave Innovations is headquartered in San Francisco, California, USA. As a leader in cutting-edge AI and machine learning solutions, the company thrives in the heart of Silicon Valley, benefiting from its proximity to tech giants and a dynamic startup ecosystem. With its headquarters in this global technology hub, TechWave Innovations has access to top talent and a vast network of innovation-driven enterprises.')]"
      ]
     },
     "execution_count": 30,
     "metadata": {},
     "output_type": "execute_result"
    }
   ],
   "source": [
    "retriever.invoke(\"Where it is headquartered?\")\n",
    "\n",
    "## See these retriver are very much away from finding headquarters of \"GreenGrow Innovations\". The output contains headquarters of other companies. Hence, contenxt awareness is important."
   ]
  },
  {
   "cell_type": "code",
   "execution_count": 31,
   "id": "3c73e6f3",
   "metadata": {},
   "outputs": [],
   "source": [
    "## Now using the above history_aware_retriever we now need to create an LLM chain. for that we can used stuffed document chain of LLM to stuff the whole content retrived to LLM.\n",
    "from langchain.chains.combine_documents import create_stuff_documents_chain\n",
    "from langchain.chains import create_retrieval_chain\n",
    "\n",
    "qa_prompts = ChatPromptTemplate.from_messages([\n",
    "    (\"system\", \"You are helpful AI Assistant. Use the following context to answer the user's question.\"),\n",
    "    (\"system\", \"Context: {context}\"),\n",
    "     MessagesPlaceholder(variable_name=\"chat_history\"),\n",
    "     (\"human\", \"{input}\")\n",
    "])\n",
    "\n",
    "question_answer_chain = create_stuff_documents_chain(llm,qa_prompts)  ## This will create a stuff document chain. That means stuff all the documents inside the context and then call LLM to genetrate the answer.\n",
    "rag_chain = create_retrieval_chain(history_aware_retriever,question_answer_chain) ## This will retrieved the documents after contextualized from the user query and then passed to stuff document chain and generate the answer."
   ]
  },
  {
   "cell_type": "code",
   "execution_count": 32,
   "id": "7da52d8d",
   "metadata": {},
   "outputs": [
    {
     "data": {
      "text/plain": [
       "{'input': 'Where it is headquartered?',\n",
       " 'chat_history': [HumanMessage(content='When was GreenGrow Innovations founded?', additional_kwargs={}, response_metadata={}),\n",
       "  AIMessage(content='GreenGrow Innovations was founded in 2010.', additional_kwargs={}, response_metadata={})],\n",
       " 'context': [Document(id='ac671b61-cfe9-48e6-ab58-6bf761bcfec2', metadata={'source': 'documents\\\\GreenGrow Innovations_ Company History.docx'}, page_content=\"The company's breakthrough came in 2018 with the introduction of the EcoHarvest System, an integrated solution that combined smart irrigation, soil monitoring, and automated harvesting techniques. This system caught the attention of large-scale farmers across the United States, propelling GreenGrow to national prominence.\\n\\n\\n\\nToday, GreenGrow Innovations employs over 200 people and has expanded its operations to include offices in California and Iowa. The company continues to focus on developing sustainable agricultural technologies, with ongoing projects in vertical farming, drought-resistant crop development, and AI-powered farm management systems.\\n\\n\\n\\nDespite its growth, GreenGrow remains committed to its original mission of promoting sustainable farming practices. The company regularly partners with universities and research institutions to advance the field of agricultural technology and hosts annual conferences to share knowledge with farmers and other industry professionals.\"),\n",
       "  Document(id='4817a6ea-15e6-4a52-8f26-f83e757a8dd9', metadata={'source': 'documents\\\\GreenGrow Innovations_ Company History.docx'}, page_content=\"The company's breakthrough came in 2018 with the introduction of the EcoHarvest System, an integrated solution that combined smart irrigation, soil monitoring, and automated harvesting techniques. This system caught the attention of large-scale farmers across the United States, propelling GreenGrow to national prominence.\\n\\n\\n\\nToday, GreenGrow Innovations employs over 200 people and has expanded its operations to include offices in California and Iowa. The company continues to focus on developing sustainable agricultural technologies, with ongoing projects in vertical farming, drought-resistant crop development, and AI-powered farm management systems.\\n\\n\\n\\nDespite its growth, GreenGrow remains committed to its original mission of promoting sustainable farming practices. The company regularly partners with universities and research institutions to advance the field of agricultural technology and hosts annual conferences to share knowledge with farmers and other industry professionals.\")],\n",
       " 'answer': 'GreenGrow Innovations is headquartered in the United States, with operations expanding to include offices in California and Iowa.'}"
      ]
     },
     "execution_count": 32,
     "metadata": {},
     "output_type": "execute_result"
    }
   ],
   "source": [
    "rag_chain.invoke({\"input\": \"Where it is headquartered?\", \"chat_history\":chat_history})"
   ]
  },
  {
   "cell_type": "markdown",
   "id": "e755a681",
   "metadata": {},
   "source": [
    "#### Handle multiple users. Introduce a data base where we will store the user id, along with its query and AI answers to contextualized the next query."
   ]
  },
  {
   "cell_type": "code",
   "execution_count": 43,
   "id": "ac3798a9",
   "metadata": {},
   "outputs": [],
   "source": [
    "import uuid\n",
    "import sqlite3"
   ]
  },
  {
   "cell_type": "code",
   "execution_count": 44,
   "id": "04da0eb9",
   "metadata": {},
   "outputs": [],
   "source": [
    "DB_NAME = \"rag_app.db\"\n",
    "\n",
    "def get_db_connection():\n",
    "    conn = sqlite3.connect(DB_NAME)\n",
    "    conn.row_factory = sqlite3.Row\n",
    "    return conn\n",
    "\n",
    "def create_application_logs():\n",
    "    conn = get_db_connection()\n",
    "    conn.execute('''CREATE TABLE IF NOT EXISTS application_logs\n",
    "    (id INTEGER PRIMARY KEY AUTOINCREMENT,\n",
    "    session_id TEXT,\n",
    "    user_query TEXT,\n",
    "    gpt_response TEXT,\n",
    "    model TEXT,\n",
    "    created_at TIMESTAMP DEFAULT CURRENT_TIMESTAMP)''')\n",
    "    conn.close()\n",
    "\n",
    "def insert_application_logs(session_id, user_query, gpt_response, model):\n",
    "    conn = get_db_connection()\n",
    "    conn.execute('INSERT INTO application_logs (session_id, user_query, gpt_response, model) VALUES (?, ?, ?, ?)',\n",
    "                 (session_id, user_query, gpt_response, model))\n",
    "    conn.commit()\n",
    "    conn.close()\n",
    "\n",
    "def get_chat_history(session_id):\n",
    "    conn = get_db_connection()\n",
    "    cursor = conn.cursor()\n",
    "    cursor.execute('SELECT user_query, gpt_response FROM application_logs WHERE session_id = ? ORDER BY created_at', (session_id,))\n",
    "    messages = []\n",
    "    for row in cursor.fetchall():\n",
    "        messages.extend([\n",
    "            {\"role\": \"human\", \"content\": row['user_query']},\n",
    "            {\"role\": \"ai\", \"content\": row['gpt_response']}\n",
    "        ])\n",
    "    conn.close()\n",
    "    return messages\n",
    "\n",
    "# Initialize the database\n",
    "create_application_logs()"
   ]
  },
  {
   "cell_type": "code",
   "execution_count": 48,
   "id": "391413e8",
   "metadata": {},
   "outputs": [],
   "source": [
    "conn = sqlite3.connect(DB_NAME)\n",
    "cursor = conn.cursor()\n",
    "\n",
    "cursor.execute(\"SELECT name FROM sqlite_master WHERE type='table';\")\n",
    "table_names = cursor.fetchall()\n",
    "conn.close()"
   ]
  },
  {
   "cell_type": "code",
   "execution_count": 49,
   "id": "ec8df1e6",
   "metadata": {},
   "outputs": [
    {
     "data": {
      "text/plain": [
       "[('application_logs',), ('sqlite_sequence',)]"
      ]
     },
     "execution_count": 49,
     "metadata": {},
     "output_type": "execute_result"
    }
   ],
   "source": [
    "table_names"
   ]
  },
  {
   "cell_type": "code",
   "execution_count": 52,
   "id": "e201ebfa",
   "metadata": {},
   "outputs": [],
   "source": [
    "conn = sqlite3.connect(DB_NAME)\n",
    "cursor = conn.cursor()\n",
    "\n",
    "cursor.execute(\"SELECT * FROM application_logs\") # Replace 'your_table' with your table name\n",
    "rows = cursor.fetchall()\n",
    "conn.close()"
   ]
  },
  {
   "cell_type": "code",
   "execution_count": 53,
   "id": "675a7678",
   "metadata": {},
   "outputs": [
    {
     "name": "stdout",
     "output_type": "stream",
     "text": [
      "Human: What is GreenGrow Innovations?\n",
      "AI: GreenGrow Innovations is a company that focuses on developing sustainable agricultural technologies. Founded on the mission of promoting sustainable farming practices, the company gained national prominence after the introduction of its EcoHarvest System in 2018. This system integrates smart irrigation, soil monitoring, and automated harvesting techniques, making it appealing to large-scale farmers across the United States.\n",
      "\n",
      "As of now, GreenGrow employs over 200 people and has expanded its operations with offices in California and Iowa. The company is actively working on projects related to vertical farming, drought-resistant crop development, and AI-powered farm management systems. Additionally, GreenGrow partners with universities and research institutions to advance agricultural technology and organizes annual conferences to share knowledge within the farming community.\n",
      "\n"
     ]
    }
   ],
   "source": [
    "session_id = str(uuid.uuid4())\n",
    "chat_history = get_chat_history(session_id)\n",
    "user_question1 = \"What is GreenGrow Innovations?\"\n",
    "response = rag_chain.invoke({\"input\":user_question1, \"chat_history\": chat_history})['answer']\n",
    "insert_application_logs(session_id, user_question1, response, 'gpt-4-o')\n",
    "print(f\"Human: {user_question1}\")\n",
    "print(f\"AI: {response}\\n\")"
   ]
  },
  {
   "cell_type": "code",
   "execution_count": 54,
   "id": "92362d12",
   "metadata": {},
   "outputs": [],
   "source": [
    "conn = sqlite3.connect(DB_NAME)\n",
    "cursor = conn.cursor()\n",
    "\n",
    "cursor.execute(\"SELECT * FROM application_logs\") # Replace 'your_table' with your table name\n",
    "rows = cursor.fetchall()\n",
    "conn.close()"
   ]
  },
  {
   "cell_type": "code",
   "execution_count": 64,
   "id": "6a04a831",
   "metadata": {},
   "outputs": [
    {
     "name": "stdout",
     "output_type": "stream",
     "text": [
      "Human: What is it?\n",
      "AI: GreenGrow Innovations is a company that specializes in developing and providing sustainable agricultural technologies. It aims to enhance farming practices through innovations such as smart irrigation, soil monitoring, automated harvesting, and other solutions designed to promote more efficient and environmentally friendly agriculture. The company's flagship product, the EcoHarvest System, has been a significant advancement in the agricultural sector, capturing the interest of large-scale farmers in the U.S. GreenGrow is committed to sustainability and regularly collaborates with academic and research institutions while hosting conferences to share knowledge within the industry.\n",
      "\n"
     ]
    }
   ],
   "source": [
    "session_id = '3b7725f8-d873-42e2-8632-229a76447233'\n",
    "chat_history = get_chat_history(session_id)\n",
    "user_question1 = \"What is it?\"\n",
    "response = rag_chain.invoke({\"input\":user_question1, \"chat_history\": chat_history})['answer']\n",
    "insert_application_logs(session_id, user_question1, response, 'gpt-4-o')\n",
    "print(f\"Human: {user_question1}\")\n",
    "print(f\"AI: {response}\\n\")"
   ]
  },
  {
   "cell_type": "code",
   "execution_count": 65,
   "id": "e5b884c9",
   "metadata": {},
   "outputs": [],
   "source": [
    "conn = sqlite3.connect(DB_NAME)\n",
    "cursor = conn.cursor()\n",
    "\n",
    "cursor.execute(\"SELECT * FROM application_logs\") # Replace 'your_table' with your table name\n",
    "rows = cursor.fetchall()\n",
    "conn.close()"
   ]
  },
  {
   "cell_type": "code",
   "execution_count": 66,
   "id": "442b7d16",
   "metadata": {},
   "outputs": [
    {
     "data": {
      "text/plain": [
       "[(1,\n",
       "  '3b7725f8-d873-42e2-8632-229a76447233',\n",
       "  'What is GreenGrow Innovations?',\n",
       "  'GreenGrow Innovations is a company that focuses on developing sustainable agricultural technologies. Founded on the mission of promoting sustainable farming practices, the company gained national prominence after the introduction of its EcoHarvest System in 2018. This system integrates smart irrigation, soil monitoring, and automated harvesting techniques, making it appealing to large-scale farmers across the United States.\\n\\nAs of now, GreenGrow employs over 200 people and has expanded its operations with offices in California and Iowa. The company is actively working on projects related to vertical farming, drought-resistant crop development, and AI-powered farm management systems. Additionally, GreenGrow partners with universities and research institutions to advance agricultural technology and organizes annual conferences to share knowledge within the farming community.',\n",
       "  'gpt-4-o',\n",
       "  '2025-09-04 08:27:11'),\n",
       " (2,\n",
       "  '0abae679-be78-494f-a5d4-a37a21a339cd',\n",
       "  'What is their first product?',\n",
       "  \"GreenGrow Innovations' first product is the WaterWise Sensor, which was launched in 2012. It was designed to significantly reduce water usage in agriculture.\",\n",
       "  'gpt-4-o',\n",
       "  '2025-09-04 08:28:23'),\n",
       " (3,\n",
       "  'a13fe3e5-b6fa-42bc-b414-39f45d33effb',\n",
       "  'What is their first product?',\n",
       "  \"GreenGrow Innovations' first product is the WaterWise Sensor, which was launched in 2012. It is designed to significantly reduce water usage in agriculture.\",\n",
       "  'gpt-4-o',\n",
       "  '2025-09-04 08:29:34'),\n",
       " (4,\n",
       "  '16e25db4-55d6-474c-8e72-08a89517ea94',\n",
       "  'What is it?',\n",
       "  'The EcoHarvest System is a tool developed by GreenGrow designed to support sustainable agricultural practices. It has undergone recent updates, including the integration of weather forecasting services to aid in long-term planning for farmers, ensuring they can better anticipate and respond to weather conditions. Additionally, a new module has been added to help manage crop rotation, which is important for improving soil health and promoting biodiversity in farming systems. Overall, the EcoHarvest System aims to enhance agricultural efficiency while prioritizing sustainability.',\n",
       "  'gpt-4-o',\n",
       "  '2025-09-04 08:29:46'),\n",
       " (5,\n",
       "  '3b7725f8-d873-42e2-8632-229a76447233',\n",
       "  'What is it?',\n",
       "  \"GreenGrow Innovations is a company that specializes in developing and providing sustainable agricultural technologies. It aims to enhance farming practices through innovations such as smart irrigation, soil monitoring, automated harvesting, and other solutions designed to promote more efficient and environmentally friendly agriculture. The company's flagship product, the EcoHarvest System, has been a significant advancement in the agricultural sector, capturing the interest of large-scale farmers in the U.S. GreenGrow is committed to sustainability and regularly collaborates with academic and research institutions while hosting conferences to share knowledge within the industry.\",\n",
       "  'gpt-4-o',\n",
       "  '2025-09-04 08:30:28')]"
      ]
     },
     "execution_count": 66,
     "metadata": {},
     "output_type": "execute_result"
    }
   ],
   "source": [
    "rows"
   ]
  },
  {
   "cell_type": "code",
   "execution_count": 70,
   "id": "79fa467e",
   "metadata": {},
   "outputs": [],
   "source": [
    "from enum import Enum\n",
    "\n",
    "class Test(Enum):\n",
    "    TEST1 = \"hi\"\n",
    "    TEST2 = \"test2\"\n",
    "    TEST3 = \"test3\""
   ]
  },
  {
   "cell_type": "code",
   "execution_count": 72,
   "id": "58860bb9",
   "metadata": {},
   "outputs": [
    {
     "data": {
      "text/plain": [
       "'hi'"
      ]
     },
     "execution_count": 72,
     "metadata": {},
     "output_type": "execute_result"
    }
   ],
   "source": [
    "Test.TEST1.value"
   ]
  },
  {
   "cell_type": "code",
   "execution_count": 74,
   "id": "a50c792d",
   "metadata": {},
   "outputs": [
    {
     "data": {
      "text/plain": [
       "1"
      ]
     },
     "execution_count": 74,
     "metadata": {},
     "output_type": "execute_result"
    }
   ],
   "source": [
    "dict({'a': 1, 'b': 2})['a']"
   ]
  },
  {
   "cell_type": "code",
   "execution_count": null,
   "id": "4e71be2b",
   "metadata": {},
   "outputs": [],
   "source": []
  },
  {
   "cell_type": "code",
   "execution_count": null,
   "metadata": {},
   "outputs": [],
   "source": [
    "a = 5"
   ]
  },
  {
   "cell_type": "code",
   "execution_count": null,
   "metadata": {},
   "outputs": [],
   "source": []
  }
 ],
 "metadata": {
  "kernelspec": {
   "display_name": ".venev (3.10.5)",
   "language": "python",
   "name": "python3"
  },
  "language_info": {
   "codemirror_mode": {
    "name": "ipython",
    "version": 3
   },
   "file_extension": ".py",
   "mimetype": "text/x-python",
   "name": "python",
   "nbconvert_exporter": "python",
   "pygments_lexer": "ipython3",
   "version": "3.10.5"
  }
 },
 "nbformat": 4,
 "nbformat_minor": 5
}
